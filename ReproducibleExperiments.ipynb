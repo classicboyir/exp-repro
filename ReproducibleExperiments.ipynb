{
 "cells": [
  {
   "cell_type": "markdown",
   "metadata": {},
   "source": [
    "### Build Reproducible Experiments\n",
    "In this notebook, the aim is to show you how to build a reproducible experiment within Azure. In this example, we're going to train a MNIST classifier using Tensorflow and show you how you can follow some practices to make this work reproducible. Later you can use this framework and apply it to other ML problems.\n",
    "\n",
    "The reason we chose MNIST is to pick a very simple example as the main focus is to build a reproducible experiment and not to learn a new algorithm or to build a complex model."
   ]
  },
  {
   "cell_type": "markdown",
   "metadata": {},
   "source": [
    "**Important Note:**:\n",
    "\n",
    "In order to practice all parts of the following Notebook, you first need to get a free Azure credit. If you don't have it, you can simply obtain it through this link: https://azure.microsoft.com/en-us/free/\n",
    "\n",
    "You can run this notebook on your local latop, Azure Notebooks (notebooks.azure.com) or Notebook VMs:\n",
    "- Local Laptop - the following packages has to be installed:\n",
    "    - Azureml-SDK - with notebook,widget extensions\n",
    "    - tensorflow==1.13\n",
    "- Azure Notebooks:\n",
    "    - This is a free notebook, all of the packages for an ML experiment is installed\n",
    "- AzureML Notebook:\n",
    "    - This is a premium notebook that you can choose the VM type. Avoid using this feature for the workshop as you may burn your credit before the end or the workshop.\n",
    "\n",
    "Once you chose the execution environment, you need to create an Azure Machine Learning Service. Follow this instruction to build one:\n",
    "\n",
    "The following text is copied from: https://docs.microsoft.com/en-us/azure/machine-learning/service/tutorial-1st-experiment-sdk-setup#create-a-workspace\n",
    "\n",
    "\n",
    "An Azure Machine Learning workspace is a foundational resource in the cloud that you use to experiment, train, and deploy machine learning models. It ties your Azure subscription and resource group to an easily consumed object in the service.\n",
    "\n",
    "You create a workspace via the Azure portal, a web-based console for managing your Azure resources.\n",
    "\n",
    "1. Sign in to the Azure portal by using the credentials for the Azure subscription you use.\n",
    "1. In the upper-left corner of Azure portal, select + Create a resource.\n",
    "1. Create a new resource\n",
    "1. Use the search bar to find Machine Learning service workspace.\n",
    "1. Select Machine Learning service workspace.\n",
    "1. In the Machine Learning service workspace pane, select Create to begin.\n",
    "1. Provide the following information to configure your new workspace:\n",
    "    - **Field\tDescription**\n",
    "    - **Workspace name**: type in **FirstExample**.\n",
    "    - **Subscription**: Select the Azure subscription that you want to use. (Your free credit)\n",
    "    - **Resource group**: type in **MLOpsWorkshop**\n",
    "    - **Location**: type in **westus2**\n",
    "1. After you are finished configuring the workspace, select Create.\n",
    "When the process is finished, a deployment success message appears.\n",
    "1. To view the new workspace, select Go to resource.\n",
    "\n",
    "\n",
    "You can explore the resource from two view:\n",
    "1. https://portal.azure.com (you can access all resources including Azure ML)\n",
    "1. https://ml.azure.com (recently released - still in preview and dedicated to Azure ML)"
   ]
  },
  {
   "cell_type": "markdown",
   "metadata": {},
   "source": [
    "First we download the MNIST sample files from Yann Lecun website to our development environment:"
   ]
  },
  {
   "cell_type": "code",
   "execution_count": 1,
   "metadata": {},
   "outputs": [
    {
     "data": {
      "text/plain": [
       "('./data/mnist/test-labels.gz', <http.client.HTTPMessage at 0x1c6ee072448>)"
      ]
     },
     "execution_count": 1,
     "metadata": {},
     "output_type": "execute_result"
    }
   ],
   "source": [
    "import os\n",
    "import urllib\n",
    "\n",
    "os.makedirs('./data/mnist', exist_ok=True)\n",
    "\n",
    "urllib.request.urlretrieve('http://yann.lecun.com/exdb/mnist/train-images-idx3-ubyte.gz', filename = './data/mnist/train-images.gz')\n",
    "urllib.request.urlretrieve('http://yann.lecun.com/exdb/mnist/train-labels-idx1-ubyte.gz', filename = './data/mnist/train-labels.gz')\n",
    "urllib.request.urlretrieve('http://yann.lecun.com/exdb/mnist/t10k-images-idx3-ubyte.gz', filename = './data/mnist/test-images.gz')\n",
    "urllib.request.urlretrieve('http://yann.lecun.com/exdb/mnist/t10k-labels-idx1-ubyte.gz', filename = './data/mnist/test-labels.gz')\n"
   ]
  },
  {
   "cell_type": "markdown",
   "metadata": {},
   "source": [
    "Import a bunch of packages."
   ]
  },
  {
   "cell_type": "code",
   "execution_count": 2,
   "metadata": {},
   "outputs": [],
   "source": [
    "%matplotlib inline\n",
    "import numpy as np\n",
    "import os\n",
    "import matplotlib\n",
    "import matplotlib.pyplot as plt\n",
    "from azureml.widgets import RunDetails\n"
   ]
  },
  {
   "cell_type": "markdown",
   "metadata": {},
   "source": [
    "Import the AzureML SDK package to be able to communicate with Azure ML Services"
   ]
  },
  {
   "cell_type": "code",
   "execution_count": 3,
   "metadata": {},
   "outputs": [
    {
     "name": "stdout",
     "output_type": "stream",
     "text": [
      "SDK version: 1.0.83\n"
     ]
    }
   ],
   "source": [
    "# Check core SDK version number\n",
    "import azureml.core\n",
    "\n",
    "print(\"SDK version:\", azureml.core.VERSION)\n"
   ]
  },
  {
   "cell_type": "code",
   "execution_count": 4,
   "metadata": {},
   "outputs": [],
   "source": [
    "# Your subscription ID will be different replace the stirng with yours\n",
    "subscription_id = \"3df1840f-dd4b-4f54-a831-e20536439b3a\"\n",
    "resource_group = \"AzureML\"\n",
    "workspace_name = \"MTDemoWUS2\"\n",
    "workspace_region = \"westus2\""
   ]
  },
  {
   "cell_type": "markdown",
   "metadata": {},
   "source": [
    "Initiate an object from Workspace class. the Workspace object will point to the created Workspace we created through the portal"
   ]
  },
  {
   "cell_type": "code",
   "execution_count": 5,
   "metadata": {},
   "outputs": [],
   "source": [
    "# import the Workspace class and check the azureml SDK version\n",
    "# exist_ok checks if workspace exists or not.\n",
    "\n",
    "from azureml.core import Workspace\n",
    "\n",
    "ws = Workspace(workspace_name = workspace_name,\n",
    "               subscription_id = subscription_id,\n",
    "               resource_group = resource_group)\n",
    "\n",
    "# persist the subscription id, resource group name, and workspace name in aml_config/config.json.\n",
    "ws.write_config()"
   ]
  },
  {
   "cell_type": "code",
   "execution_count": 6,
   "metadata": {},
   "outputs": [
    {
     "name": "stdout",
     "output_type": "stream",
     "text": [
      "Workspace name: MTDemoWUS2\n",
      "Azure region: westus2\n",
      "Subscription id: 3df1840f-dd4b-4f54-a831-e20536439b3a\n",
      "Resource group: AzureML\n"
     ]
    }
   ],
   "source": [
    "ws = Workspace.from_config()\n",
    "print('Workspace name: ' + ws.name, \n",
    "      'Azure region: ' + ws.location, \n",
    "      'Subscription id: ' + ws.subscription_id, \n",
    "      'Resource group: ' + ws.resource_group, sep = '\\n')\n"
   ]
  },
  {
   "cell_type": "markdown",
   "metadata": {},
   "source": [
    "### Start a new Experiment\n",
    "\n",
    "In software engineering world we have a new feature to develop. In ML/Data Science world, we work on experiments.\n",
    "\n",
    "**Experiments** represent the collection of trials used to validate a user's hypothesis. We call each trial a run.\n",
    "\n",
    "Here we create a new experiment, we want to make sure everything related to this experiment is saved within the workspace and the lineage between each artifact is preserved."
   ]
  },
  {
   "cell_type": "code",
   "execution_count": 7,
   "metadata": {},
   "outputs": [],
   "source": [
    "from azureml.core import Experiment\n",
    "\n",
    "exp = Experiment(workspace=ws, name='at-manulife')"
   ]
  },
  {
   "cell_type": "markdown",
   "metadata": {},
   "source": [
    "### 1. Track and Log Metrics"
   ]
  },
  {
   "cell_type": "markdown",
   "metadata": {},
   "source": [
    "We have two ways to start a trail (Run). Interactively and through batch submite. The start_loggin() method is the interactive way of starting a trail. It returns a Run object that we can use to log important metrics or the trail."
   ]
  },
  {
   "cell_type": "markdown",
   "metadata": {},
   "source": [
    "The key metrics can a single value for the accuracy of an ML model, a list of values representing the distribution or the data or an image showing the confusion matrix."
   ]
  },
  {
   "cell_type": "code",
   "execution_count": 8,
   "metadata": {},
   "outputs": [],
   "source": [
    "# Initializing log tracking action by creating a Run object in the Experiment\n",
    "run =  exp.start_logging()"
   ]
  },
  {
   "cell_type": "code",
   "execution_count": 9,
   "metadata": {},
   "outputs": [
    {
     "data": {
      "text/plain": [
       "'Running'"
      ]
     },
     "execution_count": 9,
     "metadata": {},
     "output_type": "execute_result"
    }
   ],
   "source": [
    "run.get_status()"
   ]
  },
  {
   "cell_type": "markdown",
   "metadata": {},
   "source": [
    "Here you see that the **azureml.git.repository_uri** is poinint to the remote repo and the **azureml.git.branch** property is poining to the active branch."
   ]
  },
  {
   "cell_type": "code",
   "execution_count": 10,
   "metadata": {},
   "outputs": [
    {
     "data": {
      "text/plain": [
       "{'runId': 'd7d73f7d-a107-4ff7-9b35-2b265aa4e592',\n",
       " 'target': 'sdk',\n",
       " 'status': 'Running',\n",
       " 'startTimeUtc': '2020-02-11T00:52:57.039037Z',\n",
       " 'properties': {'azureml.git.repository_uri': 'https://github.com/classicboyir/exp-repro.git',\n",
       "  'mlflow.source.git.repoURL': 'https://github.com/classicboyir/exp-repro.git',\n",
       "  'azureml.git.branch': 'master',\n",
       "  'mlflow.source.git.branch': 'master',\n",
       "  'azureml.git.commit': '8431dc9407a3b7ce40ed7e7321568d825a2d02fe',\n",
       "  'mlflow.source.git.commit': '8431dc9407a3b7ce40ed7e7321568d825a2d02fe',\n",
       "  'azureml.git.dirty': 'True',\n",
       "  'ContentSnapshotId': '31ec425e-68a3-4e6f-9ac8-d16053d8fb22'},\n",
       " 'inputDatasets': [],\n",
       " 'logFiles': {}}"
      ]
     },
     "execution_count": 10,
     "metadata": {},
     "output_type": "execute_result"
    }
   ],
   "source": [
    "run.get_details()"
   ]
  },
  {
   "cell_type": "code",
   "execution_count": 12,
   "metadata": {},
   "outputs": [],
   "source": [
    "from azureml.core import Run\n",
    "# run = Run(experiment=exp, run_id='<get it from the result above>')"
   ]
  },
  {
   "cell_type": "markdown",
   "metadata": {},
   "source": [
    "**RunDetails** class helps you visualize the active run object. It creates a network connection with Azure ML Worspace to collect everything happening during the run. It gets updated every 15 seconds."
   ]
  },
  {
   "cell_type": "code",
   "execution_count": 13,
   "metadata": {},
   "outputs": [
    {
     "data": {
      "application/vnd.jupyter.widget-view+json": {
       "model_id": "e30bea3d65204d9793e94dd8b92d65e0",
       "version_major": 2,
       "version_minor": 0
      },
      "text/plain": [
       "_UserRunWidget(widget_settings={'childWidgetDisplay': 'popup', 'send_telemetry': False, 'log_level': 'INFO', '…"
      ]
     },
     "metadata": {},
     "output_type": "display_data"
    },
    {
     "data": {
      "application/aml.mini.widget.v1": "{\"status\": \"Running\", \"workbench_run_details_uri\": \"https://ml.azure.com/experiments/at-manulife/runs/d7d73f7d-a107-4ff7-9b35-2b265aa4e592?wsid=/subscriptions/3df1840f-dd4b-4f54-a831-e20536439b3a/resourcegroups/AzureML/workspaces/MTDemoWUS2\", \"run_id\": \"d7d73f7d-a107-4ff7-9b35-2b265aa4e592\", \"run_properties\": {\"run_id\": \"d7d73f7d-a107-4ff7-9b35-2b265aa4e592\", \"created_utc\": \"2020-02-11T00:52:56.601313Z\", \"properties\": {\"azureml.git.repository_uri\": \"https://github.com/classicboyir/exp-repro.git\", \"mlflow.source.git.repoURL\": \"https://github.com/classicboyir/exp-repro.git\", \"azureml.git.branch\": \"master\", \"mlflow.source.git.branch\": \"master\", \"azureml.git.commit\": \"8431dc9407a3b7ce40ed7e7321568d825a2d02fe\", \"mlflow.source.git.commit\": \"8431dc9407a3b7ce40ed7e7321568d825a2d02fe\", \"azureml.git.dirty\": \"True\", \"ContentSnapshotId\": \"31ec425e-68a3-4e6f-9ac8-d16053d8fb22\"}, \"tags\": {}, \"end_time_utc\": null, \"status\": \"Running\", \"log_files\": {}, \"log_groups\": [], \"run_duration\": \"0:00:50\"}, \"child_runs\": [], \"children_metrics\": {}, \"run_metrics\": [], \"run_logs\": \"Your job is submitted in Azure cloud and we are monitoring to get logs...\", \"graph\": {}, \"widget_settings\": {\"childWidgetDisplay\": \"popup\", \"send_telemetry\": false, \"log_level\": \"INFO\", \"sdk_version\": \"1.0.83\"}, \"loading\": false}"
     },
     "metadata": {},
     "output_type": "display_data"
    }
   ],
   "source": [
    "RunDetails(run).show()"
   ]
  },
  {
   "cell_type": "markdown",
   "metadata": {},
   "source": [
    "**logs** function will log a single-valued or multi-valued metric under the current RUN. There are several types of logs, metric, table, row, image, etc.\n",
    "\n",
    "Every time you add a new metric, check the widget above:"
   ]
  },
  {
   "cell_type": "code",
   "execution_count": 14,
   "metadata": {},
   "outputs": [],
   "source": [
    "run.log('metric_1', 1.1)"
   ]
  },
  {
   "cell_type": "code",
   "execution_count": 15,
   "metadata": {},
   "outputs": [],
   "source": [
    "run.log('metric_1', 2.0)"
   ]
  },
  {
   "cell_type": "code",
   "execution_count": 16,
   "metadata": {},
   "outputs": [],
   "source": [
    "run.log('metric_1', 2.0)"
   ]
  },
  {
   "cell_type": "code",
   "execution_count": 17,
   "metadata": {},
   "outputs": [],
   "source": [
    "run.log('metric_1', 4.0)"
   ]
  },
  {
   "cell_type": "code",
   "execution_count": 18,
   "metadata": {},
   "outputs": [],
   "source": [
    "run.log('metric_1', 4.0)"
   ]
  },
  {
   "cell_type": "code",
   "execution_count": 19,
   "metadata": {},
   "outputs": [],
   "source": [
    "run.log('metric_1', 2.5)"
   ]
  },
  {
   "cell_type": "code",
   "execution_count": 20,
   "metadata": {},
   "outputs": [],
   "source": [
    "run.log('metric_1', 6.3)"
   ]
  },
  {
   "cell_type": "code",
   "execution_count": 21,
   "metadata": {},
   "outputs": [],
   "source": [
    "# Log some metrics about the input dataset:\n",
    "\n",
    "from utils import load_data\n",
    "\n",
    "# Unzipping the input dataset and conver the data points into Numpy arrays\n",
    "# note we also shrink the intensity values (X) from 0-255 to 0-1. This helps the neural network converge faster.\n",
    "X_train = load_data('./data/mnist/train-images.gz', False) / 255.0\n",
    "y_train = load_data('./data/mnist/train-labels.gz', True).reshape(-1)\n",
    "\n",
    "X_test = load_data('./data/mnist/test-images.gz', False) / 255.0\n",
    "y_test = load_data('./data/mnist/test-labels.gz', True).reshape(-1)"
   ]
  },
  {
   "cell_type": "code",
   "execution_count": 22,
   "metadata": {},
   "outputs": [
    {
     "data": {
      "image/png": "[encoded data removed]",
      "text/plain": [
       "<Figure size 1152x432 with 30 Axes>"
      ]
     },
     "metadata": {
      "needs_background": "light"
     },
     "output_type": "display_data"
    }
   ],
   "source": [
    "# Record how the input dataset looks like\n",
    "count = 0\n",
    "sample_size = 30\n",
    "plt.figure(figsize = (16, 6))\n",
    "for i in np.random.permutation(X_train.shape[0])[:sample_size]:\n",
    "    count = count + 1\n",
    "    plt.subplot(1, sample_size, count)\n",
    "    plt.axhline('')\n",
    "    plt.axvline('')\n",
    "    plt.text(x = 10, y = -10, s = y_train[i], fontsize = 18)\n",
    "    plt.imshow(X_train[i].reshape(28, 28), cmap = plt.cm.Greys)\n",
    "    \n",
    "run.log_image(name='{}-samples-of-input-dataset'.format(sample_size), plot=plt)"
   ]
  },
  {
   "cell_type": "code",
   "execution_count": 23,
   "metadata": {},
   "outputs": [],
   "source": [
    "import pandas as pd\n",
    "dist = pd.DataFrame(data=y_train, columns=['test_values'])['test_values'].value_counts()\n",
    "\n",
    "run.log_table('digit_dist', {\"count\":list(dist.values), \"digits\":list(dist.index)})"
   ]
  },
  {
   "cell_type": "code",
   "execution_count": 24,
   "metadata": {},
   "outputs": [
    {
     "data": {
      "text/plain": [
       "(60000, 784)"
      ]
     },
     "execution_count": 24,
     "metadata": {},
     "output_type": "execute_result"
    }
   ],
   "source": [
    "X_train.shape"
   ]
  },
  {
   "cell_type": "code",
   "execution_count": 25,
   "metadata": {},
   "outputs": [],
   "source": [
    "run.log('train_dataset_size', X_train.shape[0])"
   ]
  },
  {
   "cell_type": "code",
   "execution_count": 26,
   "metadata": {},
   "outputs": [],
   "source": [
    "run.log('test_dataset_size', X_test.shape[0])"
   ]
  },
  {
   "cell_type": "markdown",
   "metadata": {},
   "source": [
    "Get the collected metrics:"
   ]
  },
  {
   "cell_type": "code",
   "execution_count": 27,
   "metadata": {},
   "outputs": [
    {
     "name": "stdout",
     "output_type": "stream",
     "text": [
      "metric_1:  {'metric_1': [1.1, 2, 2, 4, 4, 2.5, 6.3]}\n"
     ]
    },
    {
     "data": {
      "text/plain": [
       "{'metric_1': [1.1, 2, 2, 4, 4, 2.5, 6.3],\n",
       " '30-samples-of-input-dataset': 'aml://artifactId/ExperimentRun/dcid.d7d73f7d-a107-4ff7-9b35-2b265aa4e592/30-samples-of-input-dataset_1581382418.png',\n",
       " 'digit_dist': {'count': [6742,\n",
       "   6265,\n",
       "   6131,\n",
       "   5958,\n",
       "   5949,\n",
       "   5923,\n",
       "   5918,\n",
       "   5851,\n",
       "   5842,\n",
       "   5421],\n",
       "  'digits': [1, 7, 3, 2, 9, 0, 6, 8, 4, 5]},\n",
       " 'train_dataset_size': 60000,\n",
       " 'test_dataset_size': 10000}"
      ]
     },
     "execution_count": 27,
     "metadata": {},
     "output_type": "execute_result"
    }
   ],
   "source": [
    "print('metric_1: ', run.get_metrics('metric_1'))\n",
    "run.get_metrics()"
   ]
  },
  {
   "cell_type": "markdown",
   "metadata": {},
   "source": [
    "## 2. Data and Datasets\n",
    "\n",
    "As an important part of experiment reproducibility, you'd like to separate your dataset from the training code and the development environment. There are two major ways that you can achieve this. First you can use datastores to define the connection to an Azure data store such as Blob, SQL or Databricks table, then you leverage Datasets to access the actual files and version the reference to those file assets.\n",
    "\n",
    "### 2.1 Generate data references for the ML job\n",
    "\n",
    "Once an ML Workspace is created, a storage account is created with a default container (a logical container that works as a folder - this is refered to as bucket in AWS S3). The container is attached to the Workspace automatically as the default storage account. You can find it as **workspaceblobstore** under Datastores (https://ml.azure.com). This storage account can be used for test and development but should not be used in production scenarios. Because if you decide to delete the Workspace, the default storage account is also deleted which results in losing your data. So it's wiser to create a separate storage account and attach it to the ML Workspace.\n",
    "\n",
    "Here is how to access the default storage account:"
   ]
  },
  {
   "cell_type": "code",
   "execution_count": 28,
   "metadata": {},
   "outputs": [
    {
     "data": {
      "text/plain": [
       "'workspaceblobstore'"
      ]
     },
     "execution_count": 28,
     "metadata": {},
     "output_type": "execute_result"
    }
   ],
   "source": [
    "# get_default_datastore returns the default datastore attached to the Workspace\n",
    "ds = ws.get_default_datastore()\n",
    "\n",
    "ds.name"
   ]
  },
  {
   "cell_type": "markdown",
   "metadata": {},
   "source": [
    "As the name of the default datastore suggestion, it's a reference to a Blob storage. Blob storage is a general purpose data lake that can be used to store any type of binary, from image, to csv file. Here are other types of Azure Storage types that you can attach to the WorkSpace:\n",
    "\n",
    "- Azure File Share\n",
    "- Azure Data Lake\n",
    "- Azure Data Lake Gen2\n",
    "- Azure SQL Database\n",
    "- Azure PostgreSQL\n",
    "- Databricks File System\n",
    "\n",
    "The following is an example of registering (attaching) a new Blob storage account:"
   ]
  },
  {
   "cell_type": "code",
   "execution_count": 29,
   "metadata": {},
   "outputs": [],
   "source": [
    "# from azureml.core.datastore import Datastore\n",
    "# blob_datastore = Datastore.register_azure_blob_container(\n",
    "#            workspace=ws,\n",
    "#            datastore_name='<datastore_name>',\n",
    "#            account_name='<account_name>', # Storage account name\n",
    "#            container_name='<container_name>', # Name of Azure blob container\n",
    "#            account_key='<account_key>')"
   ]
  },
  {
   "cell_type": "markdown",
   "metadata": {},
   "source": [
    "Let's upload the files that I downloaded to this storage for longer retention. This datastore can be referenced later in my training job."
   ]
  },
  {
   "cell_type": "code",
   "execution_count": null,
   "metadata": {},
   "outputs": [
    {
     "name": "stdout",
     "output_type": "stream",
     "text": [
      "Uploading an estimated of 4 files\n",
      "Uploading ./data/mnist\\test-images.gz\n",
      "Uploading ./data/mnist\\test-labels.gz\n",
      "Uploading ./data/mnist\\train-images.gz\n",
      "Uploading ./data/mnist\\train-labels.gz\n",
      "Uploaded ./data/mnist\\test-labels.gz, 1 files out of an estimated total of 4\n",
      "Uploaded ./data/mnist\\train-labels.gz, 2 files out of an estimated total of 4\n"
     ]
    }
   ],
   "source": [
    "ds.upload(src_dir='./data/mnist', target_path='mnist', overwrite=True, show_progress=True)"
   ]
  },
  {
   "cell_type": "markdown",
   "metadata": {},
   "source": [
    "### 2.2 Generate Datasets\n",
    "\n",
    "There are two different types of Datasets, TabularDataset and FileDataset. The Tabular can be used to access tabular like datasources, such as csv, SQL, Databricks, etc which FileDatasets can be used for binary datasets such as image, audio, etc. The following is a way to define a tabular dataset from an online source."
   ]
  },
  {
   "cell_type": "code",
   "execution_count": null,
   "metadata": {},
   "outputs": [],
   "source": [
    "from azureml.core.dataset import Dataset\n",
    "\n",
    "# create a TabularDataset from a delimited file behind a public web url\n",
    "web_path ='https://dprepdata.blob.core.windows.net/demo/Titanic.csv'\n",
    "titanic_ds = Dataset.Tabular.from_delimited_files(path=web_path)\n",
    "\n",
    "# To convert the Dataset into Spark (you need to have Spark installed on your development environment)\n",
    "# titanic_ds.take(3).to_spark_dataframe()\n",
    "\n",
    "# preview the first 3 rows of titanic_ds\n",
    "titanic_ds.take(3).to_pandas_dataframe()"
   ]
  },
  {
   "cell_type": "markdown",
   "metadata": {},
   "source": [
    "Datasets are references to a datasource (registered under datasources or available over internet). In other words, they don't keep the data, they are the reference definitiosn. You can register the defined Datasets under the Datasets section (accessible through ml.azure.com). Each time you register the dataset under the same name, you'll get a new version generated. Later you can access a particular version for the registered Dataset. As the dataset doesn't store your data, if you remove or change the data, the Dataset object doesn't help you roll back the change. Therefore, it's recommended to keep the data untouched. \n",
    "\n",
    "In order to keep the actual dataset, you can copy the data (using Azure Data Factory SDK or AzCopy CLI tool or [Azure SDK](https://github.com/Azure/azure-sdk-for-python/tree/master/sdk/storage/azure-storage-blob)) to clone the data to a new blob location and keep the under a new Dataset object.\n",
    "\n",
    "In the following cells, I've generated two versions of the Dataset. Every version of the titanic_ds can have different reference structure."
   ]
  },
  {
   "cell_type": "code",
   "execution_count": null,
   "metadata": {},
   "outputs": [],
   "source": [
    "titanic_ds = titanic_ds.register(workspace = ws,\n",
    "                                 name = 'titanic_ds',\n",
    "                                 description = 'titanic training data',\n",
    "                                 create_new_version = True)"
   ]
  },
  {
   "cell_type": "code",
   "execution_count": null,
   "metadata": {},
   "outputs": [],
   "source": [
    "titanic_ds = titanic_ds.register(workspace = ws,\n",
    "                                 name = 'titanic_ds',\n",
    "                                 description = 'titanic training data',\n",
    "                                 create_new_version = True)"
   ]
  },
  {
   "cell_type": "markdown",
   "metadata": {},
   "source": [
    "At any time you can retrive a particular version of Dataset:"
   ]
  },
  {
   "cell_type": "code",
   "execution_count": null,
   "metadata": {},
   "outputs": [],
   "source": [
    "titanic_ds_v1 = Dataset.get_by_name(workspace = ws,\n",
    "                                 name = 'titanic_ds', \n",
    "                                 version = 1)\n",
    "\n",
    "titanic_ds_v1.take(3).to_pandas_dataframe()"
   ]
  },
  {
   "cell_type": "code",
   "execution_count": null,
   "metadata": {},
   "outputs": [],
   "source": [
    "# # Sample code to access Parquet files: link: https://docs.microsoft.com/en-us/azure/machine-learning/service/how-to-create-register-datasets\n",
    "# \n",
    "# # create a TabularDataset with time series trait\n",
    "# datastore_paths = [(datastore, 'weather/*/*/*/data.parquet')]\n",
    "# \n",
    "# # get a coarse timestamp column from the path pattern\n",
    "# dataset = Dataset.Tabular.from_parquet_files(path=datastore_path, partition_format='weather/{coarse_time:yyy/MM/dd}/data.parquet')\n",
    "# \n",
    "# # set coarse timestamp to the virtual column created, and fine grain timestamp from a column in the data\n",
    "# dataset = dataset.with_timestamp_columns(fine_grain_timestamp='datetime', coarse_grain_timestamp='coarse_time')\n",
    "# \n",
    "# # filter with time-series-trait-specific methods\n",
    "# data_slice = dataset.time_before(datetime(2019, 1, 1))\n",
    "# data_slice = dataset.time_after(datetime(2019, 1, 1))\n",
    "# data_slice = dataset.time_between(datetime(2019, 1, 1), datetime(2019, 2, 1))\n",
    "# data_slice = dataset.time_recent(timedelta(weeks=1, days=1))"
   ]
  },
  {
   "cell_type": "markdown",
   "metadata": {},
   "source": [
    "Now going back to our MNIST problem, let's create a Dataset object from the file uploaded to the default Datastore and register the Dataset:"
   ]
  },
  {
   "cell_type": "code",
   "execution_count": null,
   "metadata": {},
   "outputs": [],
   "source": [
    "datastore_paths = [(ds, 'mnist/test-images.gz'),\n",
    " (ds, 'mnist/test-labels.gz'),\n",
    " (ds, 'mnist/train-images.gz'),\n",
    " (ds, 'mnist/train-labels.gz')]\n",
    "\n",
    "mnist_dataset = Dataset.File.from_files(datastore_paths)\n",
    "mnist_dataset"
   ]
  },
  {
   "cell_type": "markdown",
   "metadata": {},
   "source": [
    "Now let's register it within the Datasets:"
   ]
  },
  {
   "cell_type": "code",
   "execution_count": null,
   "metadata": {},
   "outputs": [],
   "source": [
    "mnist_dataset.register(workspace = ws,\n",
    "                                 name = 'mnist_dataset',\n",
    "                                 description = 'MNIST input dataset',\n",
    "                                 create_new_version = True)"
   ]
  },
  {
   "cell_type": "markdown",
   "metadata": {},
   "source": [
    "You define a new Dataset under **mnist_dataset** by accessing the actual file over the internet:"
   ]
  },
  {
   "cell_type": "code",
   "execution_count": null,
   "metadata": {},
   "outputs": [],
   "source": [
    "web_paths = [\n",
    "            'http://lecun.com/exdb/mnist/train-images-idx3-ubyte.gz',\n",
    "            'http://lecun.com/exdb/mnist/train-labels-idx1-ubyte.gz',\n",
    "            'http://lecun.com/exdb/mnist/t10k-images-idx3-ubyte.gz',\n",
    "            'http://lecun.com/exdb/mnist/t10k-labels-idx1-ubyte.gz'\n",
    "            ]\n",
    "\n",
    "mnist_dataset_web = Dataset.File.from_files(path = web_paths)\n",
    "\n",
    "mnist_dataset_web.register(workspace = ws,\n",
    "                                 name = 'mnist_dataset',\n",
    "                                 description = 'MNIST input dataset',\n",
    "                                 create_new_version = True)"
   ]
  },
  {
   "cell_type": "code",
   "execution_count": null,
   "metadata": {},
   "outputs": [],
   "source": [
    "mnist_dataset_v1 = Dataset.get_by_name(workspace = ws,\n",
    "                                 name = 'mnist_dataset', \n",
    "                                 version = 1)"
   ]
  },
  {
   "cell_type": "code",
   "execution_count": null,
   "metadata": {},
   "outputs": [],
   "source": [
    "# get the list of registered files back\n",
    "mnist_dataset_v1.to_path()"
   ]
  },
  {
   "cell_type": "markdown",
   "metadata": {},
   "source": [
    "To increase the level of flexibility, I create a different dataset for each file:"
   ]
  },
  {
   "cell_type": "code",
   "execution_count": null,
   "metadata": {},
   "outputs": [],
   "source": [
    "datastore_path_test_images = [(ds, 'mnist/test-images.gz')]\n",
    "datastore_path_test_labels = [(ds, 'mnist/test-labels.gz')]\n",
    "datastore_path_train_images = [(ds, 'mnist/train-images.gz')]\n",
    "datastore_path_train_labels = [(ds, 'mnist/train-labels.gz')]\n",
    "\n",
    "dataset_test_images = Dataset.File.from_files(datastore_path_test_images)\n",
    "dataset_test_images.register(workspace=ws, name='mnist_test_images', description='MNIST input dataset for test images', create_new_version = True)\n",
    "\n",
    "dataset_test_labels = Dataset.File.from_files(datastore_path_test_labels)\n",
    "dataset_test_labels.register(workspace=ws, name='mnist_test_labels', description='MNIST input dataset for test labels', create_new_version = True)\n",
    "\n",
    "dataset_train_images = Dataset.File.from_files(datastore_path_train_images)\n",
    "dataset_train_images.register(workspace=ws, name='mnist_train_images', description='MNIST input dataset for train images', create_new_version = True)\n",
    "\n",
    "dataset_train_labels = Dataset.File.from_files(datastore_path_train_labels)\n",
    "dataset_train_labels.register(workspace=ws, name='mnist_train_labels', description='MNIST input dataset for train labels', create_new_version = True)\n"
   ]
  },
  {
   "cell_type": "markdown",
   "metadata": {},
   "source": [
    "Now check the ml.azure.com portal to check whether the datasets are registered or not."
   ]
  },
  {
   "cell_type": "code",
   "execution_count": null,
   "metadata": {},
   "outputs": [],
   "source": [
    "!git add . && git commit -m \"added datasets and versioned them\""
   ]
  },
  {
   "cell_type": "code",
   "execution_count": null,
   "metadata": {},
   "outputs": [],
   "source": [
    "run.complete()"
   ]
  },
  {
   "cell_type": "markdown",
   "metadata": {},
   "source": [
    "## 3. Train ML Model in a Reproducible Way"
   ]
  },
  {
   "cell_type": "markdown",
   "metadata": {},
   "source": [
    "### 3.1 Traditional way of running a experiment\n",
    "Now run a simple Tensorflow job here to train an image classifier base off of MNIST dataset. This example requires Tensorflow 1.13.\n",
    "\n",
    "This is a simple two later fully connected neural net:"
   ]
  },
  {
   "cell_type": "code",
   "execution_count": null,
   "metadata": {},
   "outputs": [],
   "source": [
    "import numpy as np\n",
    "import argparse\n",
    "import os\n",
    "import tensorflow as tf\n",
    "from utils import load_data\n",
    "\n",
    "data_folder = os.path.join('data', 'mnist')\n",
    "\n",
    "print('training dataset is stored here:', data_folder)\n",
    "\n",
    "training_set_size = X_train.shape[0]\n",
    "\n",
    "n_inputs = 28 * 28\n",
    "n_h1 = 100\n",
    "n_h2 = 100\n",
    "n_outputs = 10\n",
    "learning_rate = 0.01\n",
    "n_epochs = 20\n",
    "batch_size = 50\n",
    "\n",
    "with tf.name_scope('network'):\n",
    "    # construct the DNN\n",
    "    X = tf.placeholder(tf.float32, shape=(None, n_inputs), name='X')\n",
    "    y = tf.placeholder(tf.int64, shape=(None), name='y')\n",
    "    h1 = tf.layers.dense(X, n_h1, activation=tf.nn.relu, name='h1')\n",
    "    h2 = tf.layers.dense(h1, n_h2, activation=tf.nn.relu, name='h2')\n",
    "    output = tf.layers.dense(h2, n_outputs, name='output')\n",
    "\n",
    "with tf.name_scope('train'):\n",
    "    cross_entropy = tf.nn.sparse_softmax_cross_entropy_with_logits(labels=y, logits=output)\n",
    "    loss = tf.reduce_mean(cross_entropy, name='loss')\n",
    "    optimizer = tf.train.GradientDescentOptimizer(learning_rate)\n",
    "    train_op = optimizer.minimize(loss)\n",
    "\n",
    "with tf.name_scope('eval'):\n",
    "    correct = tf.nn.in_top_k(output, y, 1)\n",
    "    acc_op = tf.reduce_mean(tf.cast(correct, tf.float32))\n",
    "\n",
    "init = tf.global_variables_initializer()\n",
    "saver = tf.train.Saver()\n",
    "\n",
    "with tf.Session() as sess:\n",
    "    init.run()\n",
    "    for epoch in range(n_epochs):\n",
    "\n",
    "        # randomly shuffle training set\n",
    "        indices = np.random.permutation(training_set_size)\n",
    "        X_train = X_train[indices]\n",
    "        y_train = y_train[indices]\n",
    "\n",
    "        # batch index\n",
    "        b_start = 0\n",
    "        b_end = b_start + batch_size\n",
    "        for _ in range(training_set_size // batch_size):\n",
    "            # get a batch\n",
    "            X_batch, y_batch = X_train[b_start: b_end], y_train[b_start: b_end]\n",
    "\n",
    "            # update batch index for the next batch\n",
    "            b_start = b_start + batch_size\n",
    "            b_end = min(b_start + batch_size, training_set_size)\n",
    "\n",
    "            # train\n",
    "            sess.run(train_op, feed_dict={X: X_batch, y: y_batch})\n",
    "        # evaluate training set\n",
    "        acc_train = acc_op.eval(feed_dict={X: X_batch, y: y_batch})\n",
    "        # evaluate validation set\n",
    "        acc_val = acc_op.eval(feed_dict={X: X_test, y: y_test})\n",
    "\n",
    "        print(epoch, '-- Training accuracy:', acc_train, '\\b Validation accuracy:', acc_val)\n",
    "        y_hat = np.argmax(output.eval(feed_dict={X: X_test}), axis=1)\n",
    "    \n",
    "    print('Final accuracy (val): ', acc_val)\n",
    "    os.makedirs('./outputs/model', exist_ok=True)\n",
    "    # files saved in the \"./outputs\" folder are automatically uploaded into run history\n",
    "    saver.save(sess, './outputs/model/mnist-tf.model')\n"
   ]
  },
  {
   "cell_type": "markdown",
   "metadata": {},
   "source": [
    "### 3.2 Make this job more reproducible - Still not ideal\n",
    "\n",
    "A better way to train this NN model is to track the metrics (the better approach will be discussed later today)\n",
    "\n",
    "**Tracking the metrics**"
   ]
  },
  {
   "cell_type": "code",
   "execution_count": null,
   "metadata": {},
   "outputs": [],
   "source": [
    "exp = Experiment(workspace=ws, name='Train-TF-Locally')\n",
    "run = exp.start_logging()"
   ]
  },
  {
   "cell_type": "code",
   "execution_count": null,
   "metadata": {},
   "outputs": [],
   "source": [
    "run.get_details()"
   ]
  },
  {
   "cell_type": "code",
   "execution_count": null,
   "metadata": {},
   "outputs": [],
   "source": [
    "RunDetails(run).show()"
   ]
  },
  {
   "cell_type": "markdown",
   "metadata": {},
   "source": [
    "Log Hyper Parameters and Accuracy metrics for each epoch. Finally I collect the accuracy for the final epoch as the final accuracy metric.\n",
    "\n",
    "Then I upload the model into the output section of the Experiment."
   ]
  },
  {
   "cell_type": "code",
   "execution_count": null,
   "metadata": {},
   "outputs": [],
   "source": [
    "run.log_row('Hyper Parameters',\n",
    "        n_inputs=n_inputs,\n",
    "        n_h1=n_h1,\n",
    "        n_h2=n_h2,\n",
    "        n_outputs=n_outputs,\n",
    "        learning_rate=learning_rate,\n",
    "        n_epochs=n_epochs,\n",
    "        batch_size=batch_size)"
   ]
  },
  {
   "cell_type": "code",
   "execution_count": null,
   "metadata": {},
   "outputs": [],
   "source": [
    "dataset_test_images = Dataset.get_by_name(workspace = ws, name = 'mnist_test_images')\n",
    "dataset_test_labels = Dataset.get_by_name(workspace = ws, name = 'mnist_test_labels')\n",
    "dataset_train_images = Dataset.get_by_name(workspace = ws, name = 'mnist_train_images')\n",
    "dataset_train_labels = Dataset.get_by_name(workspace = ws, name = 'mnist_train_labels')"
   ]
  },
  {
   "cell_type": "code",
   "execution_count": null,
   "metadata": {},
   "outputs": [],
   "source": [
    "run.log_row('dataset_test_images', dataset_name='mnist_test_images', version=dataset_train_labels.version)\n",
    "run.log_row('dataset_test_labels', dataset_name='mnist_test_labels', version=dataset_train_labels.version)\n",
    "run.log_row('dataset_train_images', dataset_name='mnist_train_images', version=dataset_train_labels.version)\n",
    "run.log_row('dataset_train_labels', dataset_name='mnist_train_labels', version=dataset_train_labels.version)"
   ]
  },
  {
   "cell_type": "code",
   "execution_count": null,
   "metadata": {},
   "outputs": [],
   "source": [
    "dataset_test_images.download('data/from_dataset')\n",
    "dataset_test_labels.download('data/from_dataset')\n",
    "dataset_train_images.download('data/from_dataset')\n",
    "dataset_train_labels.download('data/from_dataset')"
   ]
  },
  {
   "cell_type": "markdown",
   "metadata": {},
   "source": [
    "Getting the latest version of registered Dataset:"
   ]
  },
  {
   "cell_type": "code",
   "execution_count": null,
   "metadata": {},
   "outputs": [],
   "source": [
    "X_train = load_data('./data/from_dataset/train-images.gz', False) / 255.0\n",
    "y_train = load_data('./data/from_dataset/train-labels.gz', True).reshape(-1)\n",
    "X_test = load_data('./data/from_dataset/test-images.gz', False) / 255.0\n",
    "y_test = load_data('./data/from_dataset/test-labels.gz', True).reshape(-1)"
   ]
  },
  {
   "cell_type": "code",
   "execution_count": null,
   "metadata": {},
   "outputs": [],
   "source": [
    "with tf.Session() as sess:\n",
    "    init.run()\n",
    "    for epoch in range(n_epochs):\n",
    "\n",
    "        # randomly shuffle training set\n",
    "        indices = np.random.permutation(training_set_size)\n",
    "        X_train = X_train[indices]\n",
    "        y_train = y_train[indices]\n",
    "\n",
    "        # batch index\n",
    "        b_start = 0\n",
    "        b_end = b_start + batch_size\n",
    "        for _ in range(training_set_size // batch_size):\n",
    "            # get a batch\n",
    "            X_batch, y_batch = X_train[b_start: b_end], y_train[b_start: b_end]\n",
    "\n",
    "            # update batch index for the next batch\n",
    "            b_start = b_start + batch_size\n",
    "            b_end = min(b_start + batch_size, training_set_size)\n",
    "\n",
    "            # train\n",
    "            sess.run(train_op, feed_dict={X: X_batch, y: y_batch})\n",
    "        \n",
    "        # evaluate training set\n",
    "        acc_train = acc_op.eval(feed_dict={X: X_batch, y: y_batch})\n",
    "        run.log('accuracy-train', acc_train)\n",
    "        # evaluate validation set\n",
    "        acc_val = acc_op.eval(feed_dict={X: X_test, y: y_test})\n",
    "        run.log('accuracy-val', acc_val)\n",
    "\n",
    "        print(epoch, '-- Training accuracy:', acc_train, '\\b Validation accuracy:', acc_val)\n",
    "        y_hat = np.argmax(output.eval(feed_dict={X: X_test}), axis=1)\n",
    "    \n",
    "    print('Final accuracy (val): ', acc_val)\n",
    "    run.log('final-accuracy', acc_val)\n",
    "    os.makedirs('./outputs/model', exist_ok=True)\n",
    "    # files saved in the \"./outputs\" folder are automatically uploaded into run history\n",
    "    saver.save(sess, './outputs/model/mnist-tf.model')\n",
    "    run.upload_folder('/outputs/model/', './outputs/')"
   ]
  },
  {
   "cell_type": "code",
   "execution_count": null,
   "metadata": {
    "scrolled": true
   },
   "outputs": [],
   "source": [
    "# Collect all or one of the metrics:\n",
    "\n",
    "run.get_metrics()"
   ]
  },
  {
   "cell_type": "code",
   "execution_count": null,
   "metadata": {},
   "outputs": [],
   "source": [
    "run.complete()"
   ]
  },
  {
   "cell_type": "markdown",
   "metadata": {},
   "source": [
    "### 3.3 A better way to submit the TF job\n",
    "\n",
    "Instead of running the TF job on our local laptop (or notebooks.azure.com) there is an easier way to accomplish this task. You can:\n",
    "1. Create a remote compute - this can be a single VM, a set of VM (Azure ML Compute), Databricks or HDInsight Cluster (Spark).\n",
    "1. Instead of we dealing with the depandancies, we let Azure ML manage the dependencies. In other words, We tell it what is the type of script, whether it's TF, Pytorch or just a python script and we let Azure set up the create remote compute instance for us.\n",
    "1. We mount the dataset we created above to the compute node and we let Azure stream the data from the storage to the node\n",
    "1. We ask Azure to register the model into a Model management instead of the output folder"
   ]
  },
  {
   "cell_type": "markdown",
   "metadata": {},
   "source": [
    "#### Infra as Code: Creating a remote computer\n",
    "\n",
    "With a couple of lines, we create a GPU cluster ([NV6 \"1 NVIDIA Tesla M60\"](https://docs.microsoft.com/en-us/azure/virtual-machines/windows/sizes-gpu#nv-series)) of 1 node. (We set it to 1 as we don't want to burn the credit - in real production settings we go with much larger VM size and much more than 1 node)"
   ]
  },
  {
   "cell_type": "code",
   "execution_count": null,
   "metadata": {},
   "outputs": [],
   "source": [
    "# Create a GPU cluster of type NV6 with 1 node. (due to subscription's limitations we stick to 1 node)\n",
    "\n",
    "from azureml.core.compute import ComputeTarget, AmlCompute\n",
    "from azureml.core.compute_target import ComputeTargetException\n",
    "\n",
    "# choose a name for your cluster\n",
    "cluster_name = \"gpuclusterNV\"\n",
    "\n",
    "try:\n",
    "    compute_target = ComputeTarget(workspace=ws, name=cluster_name)\n",
    "    print('Found existing compute target.')\n",
    "except ComputeTargetException:\n",
    "    print('Creating a new compute target...')\n",
    "    # CPU: Standard_D3_v2\n",
    "    # GPU: Standard_NV6\n",
    "    compute_config = AmlCompute.provisioning_configuration(vm_size='Standard_NV6', \n",
    "                                                           max_nodes=1,\n",
    "                                                           min_nodes=1)\n",
    "\n",
    "    # create the cluster\n",
    "    compute_target = ComputeTarget.create(ws, cluster_name, compute_config)\n",
    "\n",
    "    compute_target.wait_for_completion(show_output=True)\n",
    "\n",
    "# use get_status() to get a detailed status for the current cluster. \n",
    "print(compute_target.get_status().serialize())"
   ]
  },
  {
   "cell_type": "code",
   "execution_count": null,
   "metadata": {},
   "outputs": [],
   "source": [
    "# compute_target.delete()"
   ]
  },
  {
   "cell_type": "code",
   "execution_count": null,
   "metadata": {},
   "outputs": [],
   "source": [
    "AmlCompute.provisioning_configuration?"
   ]
  },
  {
   "cell_type": "code",
   "execution_count": null,
   "metadata": {},
   "outputs": [],
   "source": [
    "# List of compute targets\n",
    "\n",
    "compute_targets = ws.compute_targets\n",
    "for name, ct in compute_targets.items():\n",
    "    print(name, ct.type, ct.provisioning_state)"
   ]
  },
  {
   "cell_type": "markdown",
   "metadata": {},
   "source": [
    "Steps from now:\n",
    "1. Create a train.py file which keeps contains the training code for the MNIST TF file\n",
    "    1. At the beginning of the train.py we define the arguments that we want to pass to the training file\n",
    "1. It has all of the other dependencies such as util.py\n",
    "1. We create a dictionary object that keeps all of the parameters need to be passed to the train.py\n",
    "1. We define an estimator object from azureml.train.dnn.TensorFlow"
   ]
  },
  {
   "cell_type": "code",
   "execution_count": null,
   "metadata": {},
   "outputs": [],
   "source": [
    "# Defining the project-folder that keeps all of the files required to be passed to the remote node\n",
    "\n",
    "import os\n",
    "script_folder = os.path.join(os.getcwd(), \"project-folder\")\n",
    "os.makedirs(script_folder, exist_ok=True)\n",
    "print(script_folder)"
   ]
  },
  {
   "cell_type": "markdown",
   "metadata": {},
   "source": [
    "#### Providing the dataset as an input parameter\n",
    "\n",
    "One of the ways to make the training job flexible is to provide parameters instead of counting on hardcoded values. One of the important values is the data folder. As we've discussed the two ways of providing data to the ML Workspace (Datastores and Datasets) you can similarly provide both to your training job. In the example below, we have demostrated both method. As the Datasets requires us to install extra packages on the remote compute and this takes us longer to execute, we chose to use the Datastore for this example.\n",
    "\n",
    "The as_mount function connects the dataset or datastore to the target compute at the run time, makes it look like accessing the files as if an external storage is mounted to the remote compute. This is very efficient, as it doesn't bring un-accessed data into the remote compute.\n",
    "\n",
    "The other options is to call as_download function, but it requires the remote compute to fiest download the entire data within datastore or dataset before running the script."
   ]
  },
  {
   "cell_type": "code",
   "execution_count": null,
   "metadata": {},
   "outputs": [],
   "source": [
    "from azureml.train.dnn import TensorFlow\n",
    "\n",
    "script_params = {\n",
    "    # You can provide the path from the Data Store or\n",
    "    '--data-folder': ws.get_default_datastore().as_mount(),\n",
    "    # Provide the mount point to the latest version of the registered dataset. If you choose Dataset instead of Datastore,\n",
    "    # you need to install azureml-dataprep[fuse,pandas] on the compute node using pip_packages parameter \"pip_packages=['azureml-dataprep[fuse,pandas]']\"\n",
    "    # '--dataset-test-images': dataset_test_images.as_named_input('mnist').as_mount(),\n",
    "    # '--dataset-test-labels': dataset_test_labels.as_named_input('mnist').as_mount(),\n",
    "    # '--dataset-train-images': dataset_train_images.as_named_input('mnist').as_mount(),\n",
    "    # '--dataset-train-labels': dataset_train_labels.as_named_input('mnist').as_mount(),\n",
    "    '--batch-size': 50,\n",
    "    '--first-layer-neurons': 300,\n",
    "    '--second-layer-neurons': 100,\n",
    "    '--learning-rate': 0.01\n",
    "}\n",
    "\n",
    "est = TensorFlow(source_directory=script_folder,\n",
    "                 script_params=script_params,\n",
    "                 compute_target=compute_target,\n",
    "                 entry_script='tf_mnist.py',\n",
    "                 # pip_packages=['azureml-dataprep[fuse,pandas]'],\n",
    "                 # pip_packages = ['pandas', 'numpy', '...']\n",
    "                 # conda_packages = ['pandas', 'numpy', '...']\n",
    "                 use_gpu=True, \n",
    "                 framework_version='1.13')"
   ]
  },
  {
   "cell_type": "code",
   "execution_count": null,
   "metadata": {},
   "outputs": [],
   "source": [
    "run = exp.submit(est)\n",
    "run"
   ]
  },
  {
   "cell_type": "code",
   "execution_count": null,
   "metadata": {},
   "outputs": [],
   "source": [
    "RunDetails(run).show()"
   ]
  },
  {
   "cell_type": "code",
   "execution_count": null,
   "metadata": {},
   "outputs": [],
   "source": [
    "# run.cancel()"
   ]
  },
  {
   "cell_type": "markdown",
   "metadata": {},
   "source": [
    "In addition to **Tensorflow** class, you can submit Python script with **Pytorch**, **Chainer**, **SKLearn** and pure **PythonScript** classes to the remote **compute target**. Further reading: https://github.com/Azure/AzureML-Containers"
   ]
  },
  {
   "cell_type": "code",
   "execution_count": null,
   "metadata": {},
   "outputs": [],
   "source": [
    "TensorFlow?"
   ]
  },
  {
   "cell_type": "markdown",
   "metadata": {},
   "source": [
    "### 3.4 Register the model into the Model Registry\n",
    "\n",
    "The Run object can access to the output folder that is saved under the current Run within the experiment. By using the register_model function, you can register the model under the Model tab of the Workspace."
   ]
  },
  {
   "cell_type": "code",
   "execution_count": null,
   "metadata": {},
   "outputs": [],
   "source": [
    "run.register_model(model_name='tf-dnn-mnist-single-run', model_path='outputs/model')"
   ]
  },
  {
   "cell_type": "markdown",
   "metadata": {},
   "source": [
    "### 3.5 Environment Logging and Reproducibility\n",
    "\n",
    "When the script is submitted using an Estimator object, Azure ML deploys a GPU base Linux docker image on the remote compute and based on the pip_packages and conda_packages parameters you can reproduce the environment as you wish.\n",
    "\n",
    "Once the Run is submitted, the entire environment dependencies are logged and can be reproduced. Using the Run Details, you can explore the docker, conda and other dependencies."
   ]
  },
  {
   "cell_type": "code",
   "execution_count": null,
   "metadata": {},
   "outputs": [],
   "source": [
    "run.get_details()"
   ]
  },
  {
   "cell_type": "markdown",
   "metadata": {},
   "source": [
    "You can also explicitly define the characteristics of the environment trhrough **RunConfiguration** class and provide it to the ScriptSubmit"
   ]
  },
  {
   "cell_type": "code",
   "execution_count": null,
   "metadata": {},
   "outputs": [],
   "source": [
    "# from azureml.core.runconfig import RunConfiguration\n",
    "# from azureml.core.conda_dependencies import CondaDependencies\n",
    "# from azureml.core.runconfig import DEFAULT_CPU_IMAGE\n",
    "# \n",
    "# # create a new runconfig object\n",
    "# run_config = RunConfiguration()\n",
    "# \n",
    "# # enable Docker \n",
    "# run_config.environment.docker.enabled = True\n",
    "# \n",
    "# # set Docker base image to the default CPU-based image\n",
    "# run_config.environment.docker.base_image = DEFAULT_CPU_IMAGE\n",
    "# \n",
    "# # use conda_dependencies.yml to create a conda environment in the Docker image for execution\n",
    "# run_config.environment.python.user_managed_dependencies = False\n",
    "# \n",
    "# # specify CondaDependencies obj\n",
    "# run_config.environment.python.conda_dependencies = CondaDependencies.create(pip_packages=['azureml-sdk',\n",
    "#                                                                                           'numpy'])\n",
    "\n"
   ]
  },
  {
   "cell_type": "markdown",
   "metadata": {},
   "source": [
    "### 3.6 Hyperparameter tuning\n",
    "\n",
    "In most of our DS experiments, in order to get to the optimal model, you have to try several hyper parameters on your algorithm. This can become super slow and time consuming. Using HyperDrive namespace, you can provide several choices to be passed to your training script through the parameters. In the example below, I provided three choices for the batch-size, 5 choices for the first layer neurons, 4 choices for the second-layer-neurons and a random value from the continuous space of log uniform distribution for the learning-rate.\n",
    "\n",
    "Later by setting the max_total_runs as a parameter to the HyperDriveConfig, you can set the total number of tries. In the example below, it uses Random Sampling technique to find the next combination of hyperparameters to try. It will stop based on the BanditPolicy or if number of iterations reaches the max_total_runs.\n",
    "\n",
    "Here are the types of sampling the hyperparamer space:\n",
    "* Random sampling\n",
    "* Grid sampling\n",
    "* Bayesian sampling\n",
    "\n",
    "Link: https://docs.microsoft.com/en-us/azure/machine-learning/service/how-to-tune-hyperparameters\n",
    "\n",
    "In case of having several nodes (in our case we only have 1 node), you can submit several parallel execution on multiple nodes by setting the max_concurrent_runs. For example, if you have set max_total_runs = 100 and set max_concurrent_runs to 20. Assuming that you have 20 nodes of GPU cluster, then there will be 20 concurrent runs on all of the 20 nodes. Therefore, in theory you require 5 cycles to compelete the entire 100 experiments."
   ]
  },
  {
   "cell_type": "code",
   "execution_count": null,
   "metadata": {},
   "outputs": [],
   "source": [
    "from azureml.train.hyperdrive import RandomParameterSampling, BanditPolicy, HyperDriveConfig, PrimaryMetricGoal\n",
    "from azureml.train.hyperdrive import choice, loguniform\n",
    "\n",
    "ps = RandomParameterSampling(\n",
    "    {\n",
    "        '--batch-size': choice(25, 50, 100),\n",
    "        '--first-layer-neurons': choice(10, 50, 200, 300, 500),\n",
    "        '--second-layer-neurons': choice(10, 50, 200, 500),\n",
    "        '--learning-rate': loguniform(-6, -1)\n",
    "    }\n",
    ")\n"
   ]
  },
  {
   "cell_type": "code",
   "execution_count": null,
   "metadata": {},
   "outputs": [],
   "source": [
    "est = TensorFlow(source_directory=script_folder,\n",
    "                 script_params={'--data-folder': ws.get_default_datastore().as_mount()},\n",
    "                 compute_target=compute_target,\n",
    "                 entry_script='tf_mnist.py', \n",
    "                 use_gpu=True, \n",
    "                 framework_version='1.13')"
   ]
  },
  {
   "cell_type": "code",
   "execution_count": null,
   "metadata": {},
   "outputs": [],
   "source": [
    "policy = BanditPolicy(evaluation_interval=2, slack_factor=0.1)"
   ]
  },
  {
   "cell_type": "code",
   "execution_count": null,
   "metadata": {},
   "outputs": [],
   "source": [
    "htc = HyperDriveConfig(estimator=est, \n",
    "                       hyperparameter_sampling=ps, \n",
    "                       policy=policy, \n",
    "                       primary_metric_name='accuracy-val', \n",
    "                       primary_metric_goal=PrimaryMetricGoal.MAXIMIZE, \n",
    "                       max_total_runs=4,\n",
    "                       max_concurrent_runs=2)"
   ]
  },
  {
   "cell_type": "code",
   "execution_count": null,
   "metadata": {},
   "outputs": [],
   "source": [
    "htr = exp.submit(config=htc)"
   ]
  },
  {
   "cell_type": "code",
   "execution_count": null,
   "metadata": {
    "scrolled": false
   },
   "outputs": [],
   "source": [
    "RunDetails(htr).show()"
   ]
  },
  {
   "cell_type": "markdown",
   "metadata": {},
   "source": [
    "In this run as you'll be having several models to collect. You can always get the best or collect the entire generated models. In the example below, the best model is retrieved and registered."
   ]
  },
  {
   "cell_type": "code",
   "execution_count": null,
   "metadata": {},
   "outputs": [],
   "source": [
    "best_run = htr.get_best_run_by_primary_metric()\n",
    "print(best_run.get_file_names())"
   ]
  },
  {
   "cell_type": "code",
   "execution_count": null,
   "metadata": {},
   "outputs": [],
   "source": [
    "model = best_run.register_model(model_name='tf-dnn-mnist-hyperp-tunning', model_path='outputs/model')"
   ]
  },
  {
   "cell_type": "code",
   "execution_count": null,
   "metadata": {},
   "outputs": [],
   "source": [
    "model"
   ]
  },
  {
   "cell_type": "code",
   "execution_count": null,
   "metadata": {},
   "outputs": [],
   "source": [
    "# run this cell if you like to delete the compute target - If you like to continue the tutorial, \n",
    "# please keep the compute target on.\n",
    "\n",
    "# compute_target.delete()"
   ]
  },
  {
   "cell_type": "code",
   "execution_count": null,
   "metadata": {},
   "outputs": [],
   "source": [
    "!git add . && git commit -m \"Added the Hyperparameter section\""
   ]
  },
  {
   "cell_type": "code",
   "execution_count": null,
   "metadata": {},
   "outputs": [],
   "source": []
  }
 ],
 "metadata": {
  "kernelspec": {
   "display_name": "Python 3",
   "language": "python",
   "name": "python3"
  },
  "language_info": {
   "codemirror_mode": {
    "name": "ipython",
    "version": 3
   },
   "file_extension": ".py",
   "mimetype": "text/x-python",
   "name": "python",
   "nbconvert_exporter": "python",
   "pygments_lexer": "ipython3",
   "version": "3.7.5"
  }
 },
 "nbformat": 4,
 "nbformat_minor": 2
}
